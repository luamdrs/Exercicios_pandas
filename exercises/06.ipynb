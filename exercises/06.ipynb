{
 "cells": [
  {
   "cell_type": "markdown",
   "metadata": {},
   "source": [
    "# Indexação com .loc e .iloc"
   ]
  },
  {
   "cell_type": "code",
   "execution_count": 1,
   "metadata": {},
   "outputs": [],
   "source": [
    "import pandas as pd"
   ]
  },
  {
   "cell_type": "code",
   "execution_count": 2,
   "metadata": {},
   "outputs": [],
   "source": [
    "dados = {\n",
    "    'Cidade': ['João Pessoa', 'Recife', 'Teresina', 'Fortaleza', 'Belo Horizonte', 'Curitiba', 'São Paulo'],\n",
    "    'População': [888679, 4305130, 1059660, 2574412, 6300410, 3697928, 44411238],\n",
    "    'Área (km²)': [211, 218, 138, 314, 331, 430, 1521]\n",
    "}"
   ]
  },
  {
   "cell_type": "code",
   "execution_count": 4,
   "metadata": {},
   "outputs": [],
   "source": [
    "cidades_df = pd.DataFrame(dados)\n",
    "cidades_df.set_index('Cidade', inplace=True)"
   ]
  },
  {
   "cell_type": "code",
   "execution_count": 8,
   "metadata": {},
   "outputs": [
    {
     "name": "stdout",
     "output_type": "stream",
     "text": [
      "Informações usando .loc para Recife: \n",
      "População     4305130\n",
      "Área (km²)        218\n",
      "Name: Recife, dtype: int64\n"
     ]
    }
   ],
   "source": [
    "info_loc = cidades_df.loc['Recife']\n",
    "print(f'Informações usando .loc para Recife: \\n{info_loc}')"
   ]
  },
  {
   "cell_type": "code",
   "execution_count": 9,
   "metadata": {},
   "outputs": [
    {
     "name": "stdout",
     "output_type": "stream",
     "text": [
      "Informações usando .iloc para o primeiro índice: \n",
      "População     888679\n",
      "Área (km²)       211\n",
      "Name: João Pessoa, dtype: int64\n"
     ]
    }
   ],
   "source": [
    "info_iloc = cidades_df.iloc[0]\n",
    "print(f'Informações usando .iloc para o primeiro índice: \\n{info_iloc}')"
   ]
  }
 ],
 "metadata": {
  "kernelspec": {
   "display_name": "Python 3",
   "language": "python",
   "name": "python3"
  },
  "language_info": {
   "codemirror_mode": {
    "name": "ipython",
    "version": 3
   },
   "file_extension": ".py",
   "mimetype": "text/x-python",
   "name": "python",
   "nbconvert_exporter": "python",
   "pygments_lexer": "ipython3",
   "version": "3.12.4"
  }
 },
 "nbformat": 4,
 "nbformat_minor": 2
}
