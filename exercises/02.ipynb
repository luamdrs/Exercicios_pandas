{
 "cells": [
  {
   "cell_type": "markdown",
   "metadata": {},
   "source": [
    "# Criando um Dataframe a partir de um Dicionário"
   ]
  },
  {
   "cell_type": "code",
   "execution_count": 8,
   "metadata": {},
   "outputs": [],
   "source": [
    "import pandas as pd"
   ]
  },
  {
   "cell_type": "code",
   "execution_count": 9,
   "metadata": {},
   "outputs": [],
   "source": [
    "\n",
    "df = {\n",
    "    'Produto': ['Camisa', 'Shorts', 'Calça Jeans', 'Tênis', 'Relógio', 'Boné'],\n",
    "    'Quantidade': [20, 25, 15, 30, 50, 27],\n",
    "    'Preço': [39.99, 29.99, 120.00, 99.99, 79.99, 39.99]\n",
    "}"
   ]
  },
  {
   "cell_type": "code",
   "execution_count": 10,
   "metadata": {},
   "outputs": [],
   "source": [
    "estoque_loja = pd.DataFrame(df)"
   ]
  },
  {
   "cell_type": "code",
   "execution_count": 12,
   "metadata": {},
   "outputs": [
    {
     "data": {
      "text/html": [
       "<div>\n",
       "<style scoped>\n",
       "    .dataframe tbody tr th:only-of-type {\n",
       "        vertical-align: middle;\n",
       "    }\n",
       "\n",
       "    .dataframe tbody tr th {\n",
       "        vertical-align: top;\n",
       "    }\n",
       "\n",
       "    .dataframe thead th {\n",
       "        text-align: right;\n",
       "    }\n",
       "</style>\n",
       "<table border=\"1\" class=\"dataframe\">\n",
       "  <thead>\n",
       "    <tr style=\"text-align: right;\">\n",
       "      <th></th>\n",
       "      <th>Produto</th>\n",
       "      <th>Quantidade</th>\n",
       "      <th>Preço</th>\n",
       "      <th>Valor Total</th>\n",
       "    </tr>\n",
       "  </thead>\n",
       "  <tbody>\n",
       "    <tr>\n",
       "      <th>0</th>\n",
       "      <td>Camisa</td>\n",
       "      <td>20</td>\n",
       "      <td>39.99</td>\n",
       "      <td>799.80</td>\n",
       "    </tr>\n",
       "    <tr>\n",
       "      <th>1</th>\n",
       "      <td>Shorts</td>\n",
       "      <td>25</td>\n",
       "      <td>29.99</td>\n",
       "      <td>749.75</td>\n",
       "    </tr>\n",
       "    <tr>\n",
       "      <th>2</th>\n",
       "      <td>Calça Jeans</td>\n",
       "      <td>15</td>\n",
       "      <td>120.00</td>\n",
       "      <td>1800.00</td>\n",
       "    </tr>\n",
       "    <tr>\n",
       "      <th>3</th>\n",
       "      <td>Tênis</td>\n",
       "      <td>30</td>\n",
       "      <td>99.99</td>\n",
       "      <td>2999.70</td>\n",
       "    </tr>\n",
       "    <tr>\n",
       "      <th>4</th>\n",
       "      <td>Relógio</td>\n",
       "      <td>50</td>\n",
       "      <td>79.99</td>\n",
       "      <td>3999.50</td>\n",
       "    </tr>\n",
       "    <tr>\n",
       "      <th>5</th>\n",
       "      <td>Boné</td>\n",
       "      <td>27</td>\n",
       "      <td>39.99</td>\n",
       "      <td>1079.73</td>\n",
       "    </tr>\n",
       "  </tbody>\n",
       "</table>\n",
       "</div>"
      ],
      "text/plain": [
       "       Produto  Quantidade   Preço  Valor Total\n",
       "0       Camisa          20   39.99       799.80\n",
       "1       Shorts          25   29.99       749.75\n",
       "2  Calça Jeans          15  120.00      1800.00\n",
       "3        Tênis          30   99.99      2999.70\n",
       "4      Relógio          50   79.99      3999.50\n",
       "5         Boné          27   39.99      1079.73"
      ]
     },
     "metadata": {},
     "output_type": "display_data"
    }
   ],
   "source": [
    "estoque_loja['Valor Total'] = estoque_loja['Quantidade'] * estoque_loja['Preço']\n",
    "display(estoque_loja)"
   ]
  },
  {
   "cell_type": "code",
   "execution_count": 13,
   "metadata": {},
   "outputs": [],
   "source": [
    "valor_total_produtos = estoque_loja['Valor Total'].sum()"
   ]
  },
  {
   "cell_type": "code",
   "execution_count": 14,
   "metadata": {},
   "outputs": [
    {
     "name": "stdout",
     "output_type": "stream",
     "text": [
      "\n",
      "Valor total dos produtos: R$11428.48\n"
     ]
    }
   ],
   "source": [
    "print(f'\\nValor total dos produtos: R${valor_total_produtos:.2f}')"
   ]
  }
 ],
 "metadata": {
  "kernelspec": {
   "display_name": "Python 3",
   "language": "python",
   "name": "python3"
  },
  "language_info": {
   "codemirror_mode": {
    "name": "ipython",
    "version": 3
   },
   "file_extension": ".py",
   "mimetype": "text/x-python",
   "name": "python",
   "nbconvert_exporter": "python",
   "pygments_lexer": "ipython3",
   "version": "3.12.4"
  }
 },
 "nbformat": 4,
 "nbformat_minor": 2
}
